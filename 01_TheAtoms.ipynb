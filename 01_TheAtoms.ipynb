{
 "cells": [
  {
   "cell_type": "code",
   "execution_count": 1,
   "id": "e1e7b0e2",
   "metadata": {},
   "outputs": [],
   "source": [
    "from qiskit import QuantumCircuit\n",
    "from qiskit.providers.aer import AerSimulator"
   ]
  },
  {
   "cell_type": "markdown",
   "id": "c7146ba2",
   "metadata": {},
   "source": [
    "## Encoding an input"
   ]
  },
  {
   "cell_type": "markdown",
   "id": "c6c7fc40",
   "metadata": {},
   "source": [
    "Default Quantum states are 0."
   ]
  },
  {
   "cell_type": "code",
   "execution_count": 2,
   "id": "3c0acbc2",
   "metadata": {},
   "outputs": [
    {
     "data": {
      "text/html": [
       "<pre style=\"word-wrap: normal;white-space: pre;background: #fff0;line-height: 1.1;font-family: &quot;Courier New&quot;,Courier,monospace\">     ┌─┐      \n",
       "q_0: ┤M├──────\n",
       "     └╥┘┌─┐   \n",
       "q_1: ─╫─┤M├───\n",
       "      ║ └╥┘┌─┐\n",
       "q_2: ─╫──╫─┤M├\n",
       "      ║  ║ └╥┘\n",
       "c: 3/═╩══╩══╩═\n",
       "      0  1  2 </pre>"
      ],
      "text/plain": [
       "     ┌─┐      \n",
       "q_0: ┤M├──────\n",
       "     └╥┘┌─┐   \n",
       "q_1: ─╫─┤M├───\n",
       "      ║ └╥┘┌─┐\n",
       "q_2: ─╫──╫─┤M├\n",
       "      ║  ║ └╥┘\n",
       "c: 3/═╩══╩══╩═\n",
       "      0  1  2 "
      ]
     },
     "execution_count": 2,
     "metadata": {},
     "output_type": "execute_result"
    }
   ],
   "source": [
    "qc = QuantumCircuit(3,3)\n",
    "qc.measure([0,1,2],[0,1,2])\n",
    "qc.draw()"
   ]
  },
  {
   "cell_type": "code",
   "execution_count": 3,
   "id": "b4018d40",
   "metadata": {},
   "outputs": [],
   "source": [
    "sim = AerSimulator()"
   ]
  },
  {
   "cell_type": "code",
   "execution_count": 4,
   "id": "d67178ae",
   "metadata": {},
   "outputs": [
    {
     "data": {
      "text/plain": [
       "{'000': 1024}"
      ]
     },
     "execution_count": 4,
     "metadata": {},
     "output_type": "execute_result"
    }
   ],
   "source": [
    "job = sim.run(qc)\n",
    "result = job.result()\n",
    "result.get_counts()"
   ]
  },
  {
   "cell_type": "markdown",
   "id": "cd0d7842",
   "metadata": {},
   "source": [
    "Let's input 3 into 3-Qubit Quantum Circuit."
   ]
  },
  {
   "cell_type": "markdown",
   "id": "d9083e48",
   "metadata": {},
   "source": [
    "$$3 = 0\\times 2^2 + 1\\times 2^1 + 1\\times 2^0$$"
   ]
  },
  {
   "cell_type": "code",
   "execution_count": 5,
   "id": "cb592488",
   "metadata": {},
   "outputs": [
    {
     "data": {
      "text/html": [
       "<pre style=\"word-wrap: normal;white-space: pre;background: #fff0;line-height: 1.1;font-family: &quot;Courier New&quot;,Courier,monospace\">     ┌───┐┌─┐   \n",
       "q_0: ┤ X ├┤M├───\n",
       "     ├───┤└╥┘┌─┐\n",
       "q_1: ┤ X ├─╫─┤M├\n",
       "     └┬─┬┘ ║ └╥┘\n",
       "q_2: ─┤M├──╫──╫─\n",
       "      └╥┘  ║  ║ \n",
       "c: 3/══╩═══╩══╩═\n",
       "       2   0  1 </pre>"
      ],
      "text/plain": [
       "     ┌───┐┌─┐   \n",
       "q_0: ┤ X ├┤M├───\n",
       "     ├───┤└╥┘┌─┐\n",
       "q_1: ┤ X ├─╫─┤M├\n",
       "     └┬─┬┘ ║ └╥┘\n",
       "q_2: ─┤M├──╫──╫─\n",
       "      └╥┘  ║  ║ \n",
       "c: 3/══╩═══╩══╩═\n",
       "       2   0  1 "
      ]
     },
     "execution_count": 5,
     "metadata": {},
     "output_type": "execute_result"
    }
   ],
   "source": [
    "qc = QuantumCircuit(3,3)\n",
    "qc.x([0,1])\n",
    "qc.measure([0,1,2],[0,1,2])\n",
    "qc.draw()"
   ]
  },
  {
   "cell_type": "code",
   "execution_count": 6,
   "id": "ea60390f",
   "metadata": {},
   "outputs": [
    {
     "data": {
      "text/plain": [
       "{'011': 1024}"
      ]
     },
     "execution_count": 6,
     "metadata": {},
     "output_type": "execute_result"
    }
   ],
   "source": [
    "job = sim.run(qc)\n",
    "result = job.result()\n",
    "result.get_counts()"
   ]
  },
  {
   "cell_type": "markdown",
   "id": "0955fbef",
   "metadata": {},
   "source": [
    "### Custom Project #1"
   ]
  },
  {
   "cell_type": "markdown",
   "id": "34527e30",
   "metadata": {},
   "source": [
    "Let's input 12 into 4-Qubit Quantum Circuit."
   ]
  },
  {
   "cell_type": "code",
   "execution_count": 7,
   "id": "13e55df3",
   "metadata": {},
   "outputs": [
    {
     "data": {
      "text/html": [
       "<pre style=\"word-wrap: normal;white-space: pre;background: #fff0;line-height: 1.1;font-family: &quot;Courier New&quot;,Courier,monospace\">          ┌─┐         \n",
       "q_0: ─────┤M├─────────\n",
       "          └╥┘┌─┐      \n",
       "q_1: ──────╫─┤M├──────\n",
       "     ┌───┐ ║ └╥┘┌─┐   \n",
       "q_2: ┤ X ├─╫──╫─┤M├───\n",
       "     ├───┤ ║  ║ └╥┘┌─┐\n",
       "q_3: ┤ X ├─╫──╫──╫─┤M├\n",
       "     └───┘ ║  ║  ║ └╥┘\n",
       "c: 4/══════╩══╩══╩══╩═\n",
       "           0  1  2  3 </pre>"
      ],
      "text/plain": [
       "          ┌─┐         \n",
       "q_0: ─────┤M├─────────\n",
       "          └╥┘┌─┐      \n",
       "q_1: ──────╫─┤M├──────\n",
       "     ┌───┐ ║ └╥┘┌─┐   \n",
       "q_2: ┤ X ├─╫──╫─┤M├───\n",
       "     ├───┤ ║  ║ └╥┘┌─┐\n",
       "q_3: ┤ X ├─╫──╫──╫─┤M├\n",
       "     └───┘ ║  ║  ║ └╥┘\n",
       "c: 4/══════╩══╩══╩══╩═\n",
       "           0  1  2  3 "
      ]
     },
     "execution_count": 7,
     "metadata": {},
     "output_type": "execute_result"
    }
   ],
   "source": [
    "qc = QuantumCircuit(4,4)\n",
    "qc.x([2,3])\n",
    "qc.measure([0,1,2,3],[0,1,2,3])\n",
    "qc.draw()"
   ]
  },
  {
   "cell_type": "code",
   "execution_count": 8,
   "id": "a7696e1d",
   "metadata": {},
   "outputs": [
    {
     "data": {
      "text/plain": [
       "{'1100': 1024}"
      ]
     },
     "execution_count": 8,
     "metadata": {},
     "output_type": "execute_result"
    }
   ],
   "source": [
    "job = sim.run(qc)\n",
    "result = job.result()\n",
    "result.get_counts()"
   ]
  },
  {
   "cell_type": "markdown",
   "id": "b012f8ba",
   "metadata": {},
   "source": [
    "## Addition"
   ]
  },
  {
   "cell_type": "markdown",
   "id": "a9752a49",
   "metadata": {},
   "source": [
    "The addition of one bits is represented by XOR gates\n",
    "\n",
    "$$\n",
    "0 + 0 = 00 \\\\\n",
    "0 + 1 = 01 \\\\\n",
    "1 + 0 = 01 \\\\\n",
    "1 + 1 = 10\n",
    "$$\n",
    "\n",
    "The job of the XOR gate is done by the 'controlled-NOT gate' (CNOT) in Quantum computers.\n",
    "\n",
    "![](https://learn.qiskit.org/content/intro/images/aoc/cnot_xor.svg)"
   ]
  },
  {
   "cell_type": "code",
   "execution_count": 9,
   "id": "95b2de82",
   "metadata": {},
   "outputs": [
    {
     "data": {
      "text/html": [
       "<pre style=\"word-wrap: normal;white-space: pre;background: #fff0;line-height: 1.1;font-family: &quot;Courier New&quot;,Courier,monospace\">     ┌───┐     ┌─┐   \n",
       "q_0: ┤ X ├──■──┤M├───\n",
       "     └───┘┌─┴─┐└╥┘┌─┐\n",
       "q_1: ─────┤ X ├─╫─┤M├\n",
       "          └───┘ ║ └╥┘\n",
       "c: 2/═══════════╩══╩═\n",
       "                0  1 </pre>"
      ],
      "text/plain": [
       "     ┌───┐     ┌─┐   \n",
       "q_0: ┤ X ├──■──┤M├───\n",
       "     └───┘┌─┴─┐└╥┘┌─┐\n",
       "q_1: ─────┤ X ├─╫─┤M├\n",
       "          └───┘ ║ └╥┘\n",
       "c: 2/═══════════╩══╩═\n",
       "                0  1 "
      ]
     },
     "metadata": {},
     "output_type": "display_data"
    },
    {
     "data": {
      "text/plain": [
       "{'11': 1024}"
      ]
     },
     "execution_count": 9,
     "metadata": {},
     "output_type": "execute_result"
    }
   ],
   "source": [
    "qc = QuantumCircuit(2,2)\n",
    "qc.x(0)\n",
    "qc.cx(0,1) # CNOT (controlled by q_0 and targeting q_1)\n",
    "qc.measure([0,1], [0,1])\n",
    "display(qc.draw())\n",
    "\n",
    "job = sim.run(qc)\n",
    "result = job.result()\n",
    "result.get_counts()"
   ]
  },
  {
   "cell_type": "markdown",
   "id": "413d6d69",
   "metadata": {},
   "source": [
    "Now we do addition without overwrite - half adder\n",
    "\n",
    "![](https://learn.qiskit.org/content/intro/images/aoc/xor.svg)"
   ]
  },
  {
   "cell_type": "code",
   "execution_count": 10,
   "id": "7c862ab5",
   "metadata": {},
   "outputs": [
    {
     "data": {
      "text/html": [
       "<pre style=\"word-wrap: normal;white-space: pre;background: #fff0;line-height: 1.1;font-family: &quot;Courier New&quot;,Courier,monospace\">     ┌───┐          ┌─┐      \n",
       "q_0: ┤ X ├──■───────┤M├──────\n",
       "     └───┘  │       └╥┘┌─┐   \n",
       "q_1: ───────┼────■───╫─┤M├───\n",
       "          ┌─┴─┐┌─┴─┐ ║ └╥┘┌─┐\n",
       "q_2: ─────┤ X ├┤ X ├─╫──╫─┤M├\n",
       "          └───┘└───┘ ║  ║ └╥┘\n",
       "c: 3/════════════════╩══╩══╩═\n",
       "                     0  1  2 </pre>"
      ],
      "text/plain": [
       "     ┌───┐          ┌─┐      \n",
       "q_0: ┤ X ├──■───────┤M├──────\n",
       "     └───┘  │       └╥┘┌─┐   \n",
       "q_1: ───────┼────■───╫─┤M├───\n",
       "          ┌─┴─┐┌─┴─┐ ║ └╥┘┌─┐\n",
       "q_2: ─────┤ X ├┤ X ├─╫──╫─┤M├\n",
       "          └───┘└───┘ ║  ║ └╥┘\n",
       "c: 3/════════════════╩══╩══╩═\n",
       "                     0  1  2 "
      ]
     },
     "metadata": {},
     "output_type": "display_data"
    },
    {
     "data": {
      "text/plain": [
       "{'101': 1024}"
      ]
     },
     "execution_count": 10,
     "metadata": {},
     "output_type": "execute_result"
    }
   ],
   "source": [
    "qc = QuantumCircuit(3,3)\n",
    "qc.x(0)\n",
    "qc.cx(0,2)\n",
    "qc.cx(1,2)\n",
    "qc.measure([0,1,2], [0,1,2])\n",
    "display(qc.draw())\n",
    "\n",
    "job = sim.run(qc)\n",
    "result = job.result()\n",
    "result.get_counts()"
   ]
  },
  {
   "cell_type": "markdown",
   "id": "a95d4ed7",
   "metadata": {},
   "source": [
    "Now we implement half adder for $1+1 = 10$.\n",
    "First, we can think below circuit."
   ]
  },
  {
   "cell_type": "code",
   "execution_count": 11,
   "id": "0b047ab5",
   "metadata": {},
   "outputs": [
    {
     "data": {
      "text/html": [
       "<pre style=\"word-wrap: normal;white-space: pre;background: #fff0;line-height: 1.1;font-family: &quot;Courier New&quot;,Courier,monospace\">     ┌───┐          ┌─┐      \n",
       "q_0: ┤ X ├──■───────┤M├──────\n",
       "     ├───┤  │       └╥┘┌─┐   \n",
       "q_1: ┤ X ├──┼────■───╫─┤M├───\n",
       "     └───┘┌─┴─┐┌─┴─┐ ║ └╥┘┌─┐\n",
       "q_2: ─────┤ X ├┤ X ├─╫──╫─┤M├\n",
       "          └───┘└───┘ ║  ║ └╥┘\n",
       "c: 3/════════════════╩══╩══╩═\n",
       "                     0  1  2 </pre>"
      ],
      "text/plain": [
       "     ┌───┐          ┌─┐      \n",
       "q_0: ┤ X ├──■───────┤M├──────\n",
       "     ├───┤  │       └╥┘┌─┐   \n",
       "q_1: ┤ X ├──┼────■───╫─┤M├───\n",
       "     └───┘┌─┴─┐┌─┴─┐ ║ └╥┘┌─┐\n",
       "q_2: ─────┤ X ├┤ X ├─╫──╫─┤M├\n",
       "          └───┘└───┘ ║  ║ └╥┘\n",
       "c: 3/════════════════╩══╩══╩═\n",
       "                     0  1  2 "
      ]
     },
     "metadata": {},
     "output_type": "display_data"
    },
    {
     "data": {
      "text/plain": [
       "{'011': 1024}"
      ]
     },
     "execution_count": 11,
     "metadata": {},
     "output_type": "execute_result"
    }
   ],
   "source": [
    "qc = QuantumCircuit(3,3)\n",
    "qc.x(0)\n",
    "qc.x(1)\n",
    "qc.cx(0,2)\n",
    "qc.cx(1,2)\n",
    "qc.measure([0,1,2], [0,1,2])\n",
    "display(qc.draw())\n",
    "\n",
    "job = sim.run(qc)\n",
    "result = job.result()\n",
    "result.get_counts()"
   ]
  },
  {
   "cell_type": "markdown",
   "id": "95de3747",
   "metadata": {},
   "source": [
    "But the output is 0 not 1. Then how to obtain '10'?"
   ]
  },
  {
   "cell_type": "markdown",
   "id": "e00f62ae",
   "metadata": {},
   "source": [
    "![](https://learn.qiskit.org/content/intro/images/aoc/ha_circuit.svg)"
   ]
  },
  {
   "cell_type": "markdown",
   "id": "ceea53ed",
   "metadata": {},
   "source": [
    "The Toffoli gate is 'controlled-controlled-not' gate. It has 3-bit inputs and outputs; if the first two bits are both set to 1, it inverts the third bit, otherwise all bits stay the same."
   ]
  },
  {
   "cell_type": "code",
   "execution_count": 12,
   "id": "c967c626",
   "metadata": {},
   "outputs": [
    {
     "data": {
      "text/html": [
       "<pre style=\"word-wrap: normal;white-space: pre;background: #fff0;line-height: 1.1;font-family: &quot;Courier New&quot;,Courier,monospace\">     ┌───┐                  ┌─┐      \n",
       "q_0: ┤ X ├──■─────────■─────┤M├──────\n",
       "     ├───┤  │         │     └╥┘┌─┐   \n",
       "q_1: ┤ X ├──┼────■────■──────╫─┤M├───\n",
       "     └───┘┌─┴─┐┌─┴─┐  │  ┌─┐ ║ └╥┘   \n",
       "q_2: ─────┤ X ├┤ X ├──┼──┤M├─╫──╫────\n",
       "          └───┘└───┘┌─┴─┐└╥┘ ║  ║ ┌─┐\n",
       "q_3: ───────────────┤ X ├─╫──╫──╫─┤M├\n",
       "                    └───┘ ║  ║  ║ └╥┘\n",
       "c: 4/═════════════════════╩══╩══╩══╩═\n",
       "                          2  0  1  3 </pre>"
      ],
      "text/plain": [
       "     ┌───┐                  ┌─┐      \n",
       "q_0: ┤ X ├──■─────────■─────┤M├──────\n",
       "     ├───┤  │         │     └╥┘┌─┐   \n",
       "q_1: ┤ X ├──┼────■────■──────╫─┤M├───\n",
       "     └───┘┌─┴─┐┌─┴─┐  │  ┌─┐ ║ └╥┘   \n",
       "q_2: ─────┤ X ├┤ X ├──┼──┤M├─╫──╫────\n",
       "          └───┘└───┘┌─┴─┐└╥┘ ║  ║ ┌─┐\n",
       "q_3: ───────────────┤ X ├─╫──╫──╫─┤M├\n",
       "                    └───┘ ║  ║  ║ └╥┘\n",
       "c: 4/═════════════════════╩══╩══╩══╩═\n",
       "                          2  0  1  3 "
      ]
     },
     "metadata": {},
     "output_type": "display_data"
    },
    {
     "data": {
      "text/plain": [
       "{'1011': 1024}"
      ]
     },
     "execution_count": 12,
     "metadata": {},
     "output_type": "execute_result"
    }
   ],
   "source": [
    "qc = QuantumCircuit(4,4)\n",
    "qc.x(0)\n",
    "qc.x(1)\n",
    "qc.cx(0,2)\n",
    "qc.cx(1,2)\n",
    "qc.ccx(0,1,3)\n",
    "qc.measure([0,1,2,3], [0,1,2,3])\n",
    "display(qc.draw())\n",
    "\n",
    "job = sim.run(qc)\n",
    "result = job.result()\n",
    "result.get_counts()"
   ]
  },
  {
   "cell_type": "markdown",
   "id": "b58448a7",
   "metadata": {},
   "source": [
    "### Custom Project #2"
   ]
  },
  {
   "cell_type": "markdown",
   "id": "2fdb59a2",
   "metadata": {},
   "source": [
    "Now, let's describe $2+1=3$ in Quantim circuit.\n",
    "\n",
    "First, it is same as $10 + 01 = 011$"
   ]
  },
  {
   "cell_type": "code",
   "execution_count": 13,
   "id": "c55d7baa",
   "metadata": {},
   "outputs": [
    {
     "data": {
      "text/html": [
       "<pre style=\"word-wrap: normal;white-space: pre;background: #fff0;line-height: 1.1;font-family: &quot;Courier New&quot;,Courier,monospace\">      ┌───┐                                                              \n",
       " q_0: ┤ X ├───────■───────────────────■──────────────────────────────────\n",
       "      └───┘       │                   │                                  \n",
       " q_1: ───────■────┼──────────────■────┼──────────────────────────────────\n",
       "             │    │              │    │                                  \n",
       " q_2: ───────┼────┼─────────■────┼────■──────────────────────────────────\n",
       "      ┌───┐  │    │         │    │    │                                  \n",
       " q_3: ┤ X ├──┼────┼────■────┼────■────┼──────────────────────────────────\n",
       "      └───┘  │    │    │    │    │    │                                  \n",
       " q_4: ───────┼────┼────┼────┼────┼────┼──────────────────────────────────\n",
       "             │  ┌─┴─┐  │  ┌─┴─┐  │    │  ┌─┐                             \n",
       " q_5: ───────┼──┤ X ├──┼──┤ X ├──┼────┼──┤M├─────────────────────────────\n",
       "           ┌─┴─┐└───┘┌─┴─┐└───┘  │    │  └╥┘                             \n",
       " q_6: ─────┤ X ├─────┤ X ├──■────┼────┼───╫────────■─────────────────────\n",
       "           └───┘     └───┘  │    │  ┌─┴─┐ ║        │                     \n",
       " q_7: ──────────────────────┼────┼──┤ X ├─╫───■────■─────────────────────\n",
       "                            │  ┌─┴─┐└───┘ ║   │    │                     \n",
       " q_8: ──────────────────────┼──┤ X ├──■───╫───┼────┼────────────■────────\n",
       "                          ┌─┴─┐└───┘  │   ║ ┌─┴─┐  │  ┌─┐       │        \n",
       " q_9: ────────────────────┤ X ├───────┼───╫─┤ X ├──┼──┤M├───────┼────────\n",
       "                          └───┘       │   ║ └───┘┌─┴─┐└╥┘       │        \n",
       "q_10: ────────────────────────────────┼───╫──────┤ X ├─╫───■────■────────\n",
       "                                    ┌─┴─┐ ║      └───┘ ║ ┌─┴─┐  │  ┌─┐   \n",
       "q_11: ──────────────────────────────┤ X ├─╫────────────╫─┤ X ├──┼──┤M├───\n",
       "                                    └───┘ ║            ║ └───┘┌─┴─┐└╥┘┌─┐\n",
       "q_12: ────────────────────────────────────╫────────────╫──────┤ X ├─╫─┤M├\n",
       "                                          ║            ║      └───┘ ║ └╥┘\n",
       " c: 4/════════════════════════════════════╩════════════╩════════════╩══╩═\n",
       "                                          0            1            2  3 </pre>"
      ],
      "text/plain": [
       "      ┌───┐                                                              \n",
       " q_0: ┤ X ├───────■───────────────────■──────────────────────────────────\n",
       "      └───┘       │                   │                                  \n",
       " q_1: ───────■────┼──────────────■────┼──────────────────────────────────\n",
       "             │    │              │    │                                  \n",
       " q_2: ───────┼────┼─────────■────┼────■──────────────────────────────────\n",
       "      ┌───┐  │    │         │    │    │                                  \n",
       " q_3: ┤ X ├──┼────┼────■────┼────■────┼──────────────────────────────────\n",
       "      └───┘  │    │    │    │    │    │                                  \n",
       " q_4: ───────┼────┼────┼────┼────┼────┼──────────────────────────────────\n",
       "             │  ┌─┴─┐  │  ┌─┴─┐  │    │  ┌─┐                             \n",
       " q_5: ───────┼──┤ X ├──┼──┤ X ├──┼────┼──┤M├─────────────────────────────\n",
       "           ┌─┴─┐└───┘┌─┴─┐└───┘  │    │  └╥┘                             \n",
       " q_6: ─────┤ X ├─────┤ X ├──■────┼────┼───╫────────■─────────────────────\n",
       "           └───┘     └───┘  │    │  ┌─┴─┐ ║        │                     \n",
       " q_7: ──────────────────────┼────┼──┤ X ├─╫───■────■─────────────────────\n",
       "                            │  ┌─┴─┐└───┘ ║   │    │                     \n",
       " q_8: ──────────────────────┼──┤ X ├──■───╫───┼────┼────────────■────────\n",
       "                          ┌─┴─┐└───┘  │   ║ ┌─┴─┐  │  ┌─┐       │        \n",
       " q_9: ────────────────────┤ X ├───────┼───╫─┤ X ├──┼──┤M├───────┼────────\n",
       "                          └───┘       │   ║ └───┘┌─┴─┐└╥┘       │        \n",
       "q_10: ────────────────────────────────┼───╫──────┤ X ├─╫───■────■────────\n",
       "                                    ┌─┴─┐ ║      └───┘ ║ ┌─┴─┐  │  ┌─┐   \n",
       "q_11: ──────────────────────────────┤ X ├─╫────────────╫─┤ X ├──┼──┤M├───\n",
       "                                    └───┘ ║            ║ └───┘┌─┴─┐└╥┘┌─┐\n",
       "q_12: ────────────────────────────────────╫────────────╫──────┤ X ├─╫─┤M├\n",
       "                                          ║            ║      └───┘ ║ └╥┘\n",
       " c: 4/════════════════════════════════════╩════════════╩════════════╩══╩═\n",
       "                                          0            1            2  3 "
      ]
     },
     "metadata": {},
     "output_type": "display_data"
    },
    {
     "data": {
      "text/plain": [
       "{'0011': 1024}"
      ]
     },
     "execution_count": 13,
     "metadata": {},
     "output_type": "execute_result"
    }
   ],
   "source": [
    "qc = QuantumCircuit(13,4)\n",
    "\n",
    "qc.x(0) # 01\n",
    "qc.x(3) # 10\n",
    "\n",
    "# 2^0 addition\n",
    "qc.cx(0,5)\n",
    "qc.cx(2,5)\n",
    "\n",
    "# 2^1 addition\n",
    "qc.cx(1,6)\n",
    "qc.cx(3,6)\n",
    "\n",
    "# Toffoli for 2^0\n",
    "qc.ccx(0,2,7)\n",
    "\n",
    "# Toffoli for 2^1\n",
    "qc.ccx(1,3,8)\n",
    "\n",
    "# Addition for 2^1 again\n",
    "qc.cx(6,9)\n",
    "qc.cx(7,9)\n",
    "\n",
    "# Toffoli for 2^1 again\n",
    "qc.ccx(6,7,10)\n",
    "\n",
    "# Addition for 2^2\n",
    "qc.cx(8,11)\n",
    "qc.cx(10,11)\n",
    "\n",
    "# Toffoli for 2^2\n",
    "qc.ccx(8,10,12)\n",
    "\n",
    "# 2^3: 12\n",
    "# 2^2: 11\n",
    "# 2^1: 9\n",
    "# 2^0: 5\n",
    "\n",
    "qc.measure([5,9,11,12], [0,1,2,3])\n",
    "display(qc.draw())\n",
    "\n",
    "job = sim.run(qc)\n",
    "result = job.result()\n",
    "result.get_counts()"
   ]
  },
  {
   "cell_type": "markdown",
   "id": "a6ca592a",
   "metadata": {},
   "source": [
    "Above circuit may work with $2+3=5 ~\\Rightarrow~ 10+11=101$"
   ]
  },
  {
   "cell_type": "code",
   "execution_count": 14,
   "id": "7b6ac997",
   "metadata": {},
   "outputs": [
    {
     "data": {
      "text/html": [
       "<pre style=\"word-wrap: normal;white-space: pre;background: #fff0;line-height: 1.1;font-family: &quot;Courier New&quot;,Courier,monospace\">                                                                             »\n",
       " q_0: ───────■───────────────────■───────────────────────────────────────────»\n",
       "      ┌───┐  │                   │                                           »\n",
       " q_1: ┤ X ├──┼─────────■─────────┼───────■───────────────────────────────────»\n",
       "      ├───┤  │         │         │       │                                   »\n",
       " q_2: ┤ X ├──┼────■────┼─────────■───────┼───────────────────────────────────»\n",
       "      ├───┤  │    │    │         │       │                                   »\n",
       " q_3: ┤ X ├──┼────┼────┼────■────┼───────■───────────────────────────────────»\n",
       "      └───┘  │    │    │    │    │       │                                   »\n",
       " q_4: ───────┼────┼────┼────┼────┼───────┼───────────────────────────────────»\n",
       "           ┌─┴─┐┌─┴─┐  │    │    │  ┌─┐  │                                   »\n",
       " q_5: ─────┤ X ├┤ X ├──┼────┼────┼──┤M├──┼───────────────────────────────────»\n",
       "           └───┘└───┘┌─┴─┐┌─┴─┐  │  └╥┘  │                                   »\n",
       " q_6: ───────────────┤ X ├┤ X ├──┼───╫───┼────■──────────────■───────────────»\n",
       "                     └───┘└───┘┌─┴─┐ ║   │    │              │               »\n",
       " q_7: ─────────────────────────┤ X ├─╫───┼────┼────■─────────■───────────────»\n",
       "                               └───┘ ║ ┌─┴─┐  │    │         │               »\n",
       " q_8: ───────────────────────────────╫─┤ X ├──┼────┼────■────┼────────────■──»\n",
       "                                     ║ └───┘┌─┴─┐┌─┴─┐  │    │  ┌─┐       │  »\n",
       " q_9: ───────────────────────────────╫──────┤ X ├┤ X ├──┼────┼──┤M├───────┼──»\n",
       "                                     ║      └───┘└───┘  │  ┌─┴─┐└╥┘       │  »\n",
       "q_10: ───────────────────────────────╫──────────────────┼──┤ X ├─╫───■────■──»\n",
       "                                     ║                ┌─┴─┐└───┘ ║ ┌─┴─┐  │  »\n",
       "q_11: ───────────────────────────────╫────────────────┤ X ├──────╫─┤ X ├──┼──»\n",
       "                                     ║                └───┘      ║ └───┘┌─┴─┐»\n",
       "q_12: ───────────────────────────────╫───────────────────────────╫──────┤ X ├»\n",
       "                                     ║                           ║      └───┘»\n",
       " c: 4/═══════════════════════════════╩═══════════════════════════╩═══════════»\n",
       "                                     0                           1           »\n",
       "«            \n",
       "« q_0: ──────\n",
       "«            \n",
       "« q_1: ──────\n",
       "«            \n",
       "« q_2: ──────\n",
       "«            \n",
       "« q_3: ──────\n",
       "«            \n",
       "« q_4: ──────\n",
       "«            \n",
       "« q_5: ──────\n",
       "«            \n",
       "« q_6: ──────\n",
       "«            \n",
       "« q_7: ──────\n",
       "«            \n",
       "« q_8: ──────\n",
       "«            \n",
       "« q_9: ──────\n",
       "«            \n",
       "«q_10: ──────\n",
       "«      ┌─┐   \n",
       "«q_11: ┤M├───\n",
       "«      └╥┘┌─┐\n",
       "«q_12: ─╫─┤M├\n",
       "«       ║ └╥┘\n",
       "« c: 4/═╩══╩═\n",
       "«       2  3 </pre>"
      ],
      "text/plain": [
       "                                                                             »\n",
       " q_0: ───────■───────────────────■───────────────────────────────────────────»\n",
       "      ┌───┐  │                   │                                           »\n",
       " q_1: ┤ X ├──┼─────────■─────────┼───────■───────────────────────────────────»\n",
       "      ├───┤  │         │         │       │                                   »\n",
       " q_2: ┤ X ├──┼────■────┼─────────■───────┼───────────────────────────────────»\n",
       "      ├───┤  │    │    │         │       │                                   »\n",
       " q_3: ┤ X ├──┼────┼────┼────■────┼───────■───────────────────────────────────»\n",
       "      └───┘  │    │    │    │    │       │                                   »\n",
       " q_4: ───────┼────┼────┼────┼────┼───────┼───────────────────────────────────»\n",
       "           ┌─┴─┐┌─┴─┐  │    │    │  ┌─┐  │                                   »\n",
       " q_5: ─────┤ X ├┤ X ├──┼────┼────┼──┤M├──┼───────────────────────────────────»\n",
       "           └───┘└───┘┌─┴─┐┌─┴─┐  │  └╥┘  │                                   »\n",
       " q_6: ───────────────┤ X ├┤ X ├──┼───╫───┼────■──────────────■───────────────»\n",
       "                     └───┘└───┘┌─┴─┐ ║   │    │              │               »\n",
       " q_7: ─────────────────────────┤ X ├─╫───┼────┼────■─────────■───────────────»\n",
       "                               └───┘ ║ ┌─┴─┐  │    │         │               »\n",
       " q_8: ───────────────────────────────╫─┤ X ├──┼────┼────■────┼────────────■──»\n",
       "                                     ║ └───┘┌─┴─┐┌─┴─┐  │    │  ┌─┐       │  »\n",
       " q_9: ───────────────────────────────╫──────┤ X ├┤ X ├──┼────┼──┤M├───────┼──»\n",
       "                                     ║      └───┘└───┘  │  ┌─┴─┐└╥┘       │  »\n",
       "q_10: ───────────────────────────────╫──────────────────┼──┤ X ├─╫───■────■──»\n",
       "                                     ║                ┌─┴─┐└───┘ ║ ┌─┴─┐  │  »\n",
       "q_11: ───────────────────────────────╫────────────────┤ X ├──────╫─┤ X ├──┼──»\n",
       "                                     ║                └───┘      ║ └───┘┌─┴─┐»\n",
       "q_12: ───────────────────────────────╫───────────────────────────╫──────┤ X ├»\n",
       "                                     ║                           ║      └───┘»\n",
       " c: 4/═══════════════════════════════╩═══════════════════════════╩═══════════»\n",
       "                                     0                           1           »\n",
       "«            \n",
       "« q_0: ──────\n",
       "«            \n",
       "« q_1: ──────\n",
       "«            \n",
       "« q_2: ──────\n",
       "«            \n",
       "« q_3: ──────\n",
       "«            \n",
       "« q_4: ──────\n",
       "«            \n",
       "« q_5: ──────\n",
       "«            \n",
       "« q_6: ──────\n",
       "«            \n",
       "« q_7: ──────\n",
       "«            \n",
       "« q_8: ──────\n",
       "«            \n",
       "« q_9: ──────\n",
       "«            \n",
       "«q_10: ──────\n",
       "«      ┌─┐   \n",
       "«q_11: ┤M├───\n",
       "«      └╥┘┌─┐\n",
       "«q_12: ─╫─┤M├\n",
       "«       ║ └╥┘\n",
       "« c: 4/═╩══╩═\n",
       "«       2  3 "
      ]
     },
     "metadata": {},
     "output_type": "display_data"
    },
    {
     "data": {
      "text/plain": [
       "{'0101': 1024}"
      ]
     },
     "execution_count": 14,
     "metadata": {},
     "output_type": "execute_result"
    }
   ],
   "source": [
    "qc = QuantumCircuit(13,4)\n",
    "\n",
    "qc.x(1) # 10\n",
    "qc.x(2) # 11\n",
    "qc.x(3) # 11\n",
    "\n",
    "# 2^0 addition\n",
    "qc.cx(0,5)\n",
    "qc.cx(2,5)\n",
    "\n",
    "# 2^1 addition\n",
    "qc.cx(1,6)\n",
    "qc.cx(3,6)\n",
    "\n",
    "# Toffoli for 2^0\n",
    "qc.ccx(0,2,7)\n",
    "\n",
    "# Toffoli for 2^1\n",
    "qc.ccx(1,3,8)\n",
    "\n",
    "# Addition for 2^1 again\n",
    "qc.cx(6,9)\n",
    "qc.cx(7,9)\n",
    "\n",
    "# Toffoli for 2^1 again\n",
    "qc.ccx(6,7,10)\n",
    "\n",
    "# Addition for 2^2\n",
    "qc.cx(8,11)\n",
    "qc.cx(10,11)\n",
    "\n",
    "# Toffoli for 2^2\n",
    "qc.ccx(8,10,12)\n",
    "\n",
    "# 2^3: 12\n",
    "# 2^2: 11\n",
    "# 2^1: 9\n",
    "# 2^0: 5\n",
    "\n",
    "qc.measure([5,9,11,12], [0,1,2,3])\n",
    "display(qc.draw())\n",
    "\n",
    "job = sim.run(qc)\n",
    "result = job.result()\n",
    "result.get_counts()"
   ]
  }
 ],
 "metadata": {
  "kernelspec": {
   "display_name": "Python 3 (ipykernel)",
   "language": "python",
   "name": "python3"
  },
  "language_info": {
   "codemirror_mode": {
    "name": "ipython",
    "version": 3
   },
   "file_extension": ".py",
   "mimetype": "text/x-python",
   "name": "python",
   "nbconvert_exporter": "python",
   "pygments_lexer": "ipython3",
   "version": "3.10.6"
  }
 },
 "nbformat": 4,
 "nbformat_minor": 5
}
