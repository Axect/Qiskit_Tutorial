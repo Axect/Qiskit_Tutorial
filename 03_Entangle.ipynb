{
 "cells": [
  {
   "cell_type": "code",
   "execution_count": 1,
   "id": "4034d539",
   "metadata": {},
   "outputs": [],
   "source": [
    "from qiskit import QuantumCircuit\n",
    "from qiskit.providers.aer import AerSimulator"
   ]
  },
  {
   "cell_type": "markdown",
   "id": "fd08d192",
   "metadata": {},
   "source": [
    "## Qubit Ordering"
   ]
  },
  {
   "cell_type": "markdown",
   "id": "ceb4166a",
   "metadata": {},
   "source": [
    "* $|00\\rangle$ : Both qubits are in the state $|0\\rangle$\n",
    "* $|10\\rangle$ : The qubit states are $|1\\rangle$ (left (qubit-1)) and $|0\\rangle$ (right (qubit-0))"
   ]
  },
  {
   "cell_type": "markdown",
   "id": "b2cacb11",
   "metadata": {},
   "source": [
    "## Product States"
   ]
  },
  {
   "cell_type": "markdown",
   "id": "dcd9fb2d",
   "metadata": {},
   "source": [
    "$$|b\\,a\\rangle = \\begin{pmatrix}b_0a_0 \\\\ b_0a_1 \\\\ b_1a_0 \\\\ b_1a_1 \\end{pmatrix}$$"
   ]
  },
  {
   "cell_type": "markdown",
   "id": "5d6f8cf3",
   "metadata": {},
   "source": [
    "For example,\n",
    "\n",
    "$$|+0\\rangle = \\begin{pmatrix} |+\\rangle_0 \\cdot |0\\rangle \\\\ |+\\rangle_1 \\cdot |0\\rangle \\end{pmatrix} = \\begin{pmatrix} \\frac{1}{\\sqrt{2}} \\begin{pmatrix} 1 \\\\ 0 \\end{pmatrix} \\\\\n",
    "\\frac{1}{\\sqrt{2}} \\begin{pmatrix} 1 \\\\ 0 \\end{pmatrix} \\end{pmatrix} = \\frac{1}{\\sqrt{2}} \\begin{pmatrix} 1 \\\\ 0 \\\\ 1 \\\\ 0\\end{pmatrix}$$"
   ]
  },
  {
   "cell_type": "markdown",
   "id": "17b4c631",
   "metadata": {},
   "source": [
    "## Entagled States"
   ]
  },
  {
   "cell_type": "markdown",
   "id": "78634a60",
   "metadata": {},
   "source": [
    "If the states can't be represented as the product states then the state is called as entangled states."
   ]
  },
  {
   "cell_type": "markdown",
   "id": "f818f2ac",
   "metadata": {},
   "source": [
    "For example,\n",
    "\n",
    "$$\n",
    "|\\Phi^+\\rangle = \\frac{1}{\\sqrt{2}} \\begin{pmatrix} 1 \\\\ 0 \\\\ 0 \\\\ 1\\end{pmatrix}\n",
    " = \\frac{1}{\\sqrt{2}}(|00\\rangle + |11\\rangle)\n",
    "$$\n",
    "\n",
    "is an entangled state."
   ]
  },
  {
   "cell_type": "markdown",
   "id": "5a9bc794",
   "metadata": {},
   "source": [
    "## Entangling Gates"
   ]
  },
  {
   "cell_type": "code",
   "execution_count": null,
   "id": "650ebe02",
   "metadata": {},
   "outputs": [],
   "source": []
  }
 ],
 "metadata": {
  "kernelspec": {
   "display_name": "Python 3 (ipykernel)",
   "language": "python",
   "name": "python3"
  },
  "language_info": {
   "codemirror_mode": {
    "name": "ipython",
    "version": 3
   },
   "file_extension": ".py",
   "mimetype": "text/x-python",
   "name": "python",
   "nbconvert_exporter": "python",
   "pygments_lexer": "ipython3",
   "version": "3.10.6"
  }
 },
 "nbformat": 4,
 "nbformat_minor": 5
}
